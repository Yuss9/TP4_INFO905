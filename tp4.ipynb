{
 "cells": [
  {
   "cell_type": "code",
   "execution_count": 1,
   "metadata": {},
   "outputs": [],
   "source": [
    "import tensorflow as tf\n",
    "(x_train, y_train), (x_test, y_test) = tf.keras.datasets.cifar10.load_data()"
   ]
  },
  {
   "cell_type": "code",
   "execution_count": 2,
   "metadata": {},
   "outputs": [
    {
     "name": "stdout",
     "output_type": "stream",
     "text": [
      "Taille du dataset d'entraînement : (50000, 32, 32, 3)\n",
      "Taille du dataset de test : (10000, 32, 32, 3)\n",
      "Nombre d'images d'entraînement : 50000\n",
      "Nombre d'images de test : 10000\n",
      "Nombre de classes : 10\n"
     ]
    }
   ],
   "source": [
    "print(\"Taille du dataset d'entraînement :\", x_train.shape)\n",
    "print(\"Taille du dataset de test :\", x_test.shape)\n",
    "print(\"Nombre d'images d'entraînement :\", len(x_train))\n",
    "print(\"Nombre d'images de test :\", len(x_test))\n",
    "num_classes = len(set(y_train.flatten()))\n",
    "print(\"Nombre de classes :\", num_classes)"
   ]
  },
  {
   "cell_type": "code",
   "execution_count": 3,
   "metadata": {},
   "outputs": [],
   "source": [
    "from tensorflow.keras.utils import to_categorical\n",
    "\n",
    "x_train = x_train / 255.0\n",
    "x_test = x_test / 255.0\n",
    "\n",
    "# One-hot encoding des étiquettes\n",
    "num_classes = 10  \n",
    "y_train = to_categorical(y_train, num_classes)\n",
    "y_test = to_categorical(y_test, num_classes)"
   ]
  },
  {
   "cell_type": "code",
   "execution_count": 4,
   "metadata": {},
   "outputs": [
    {
     "name": "stdout",
     "output_type": "stream",
     "text": [
      "Model: \"sequential\"\n",
      "_________________________________________________________________\n",
      " Layer (type)                Output Shape              Param #   \n",
      "=================================================================\n",
      " flatten (Flatten)           (None, 3072)              0         \n",
      "                                                                 \n",
      " dense (Dense)               (None, 512)               1573376   \n",
      "                                                                 \n",
      " dense_1 (Dense)             (None, 10)                5130      \n",
      "                                                                 \n",
      "=================================================================\n",
      "Total params: 1578506 (6.02 MB)\n",
      "Trainable params: 1578506 (6.02 MB)\n",
      "Non-trainable params: 0 (0.00 Byte)\n",
      "_________________________________________________________________\n",
      "Epoch 1/20\n",
      "1563/1563 [==============================] - 4s 3ms/step - loss: 6.1352 - accuracy: 0.1941 - val_loss: 6.1323 - val_accuracy: 0.2060\n",
      "Epoch 2/20\n",
      "1563/1563 [==============================] - 4s 3ms/step - loss: 6.1099 - accuracy: 0.2106 - val_loss: 6.1308 - val_accuracy: 0.2473\n",
      "Epoch 3/20\n",
      "1563/1563 [==============================] - 4s 3ms/step - loss: 6.0857 - accuracy: 0.2279 - val_loss: 6.0560 - val_accuracy: 0.2694\n",
      "Epoch 4/20\n",
      "1563/1563 [==============================] - 4s 3ms/step - loss: 6.1120 - accuracy: 0.1923 - val_loss: 6.1340 - val_accuracy: 0.1537\n",
      "Epoch 5/20\n",
      "1563/1563 [==============================] - 4s 3ms/step - loss: 6.0625 - accuracy: 0.2411 - val_loss: 6.0672 - val_accuracy: 0.2384\n",
      "Epoch 6/20\n",
      "1563/1563 [==============================] - 4s 3ms/step - loss: 6.0495 - accuracy: 0.2445 - val_loss: 6.0272 - val_accuracy: 0.2593\n",
      "Epoch 7/20\n",
      "1563/1563 [==============================] - 4s 3ms/step - loss: 6.0577 - accuracy: 0.2156 - val_loss: 6.0461 - val_accuracy: 0.2797\n",
      "Epoch 8/20\n",
      "1563/1563 [==============================] - 4s 3ms/step - loss: 6.0442 - accuracy: 0.2195 - val_loss: 6.0298 - val_accuracy: 0.2337\n",
      "Epoch 9/20\n",
      "1563/1563 [==============================] - 4s 3ms/step - loss: 6.0547 - accuracy: 0.2237 - val_loss: 6.0136 - val_accuracy: 0.2567\n",
      "Epoch 10/20\n",
      "1563/1563 [==============================] - 4s 3ms/step - loss: 6.0312 - accuracy: 0.2291 - val_loss: 6.0188 - val_accuracy: 0.2823\n",
      "Epoch 11/20\n",
      "1563/1563 [==============================] - 4s 3ms/step - loss: 6.0071 - accuracy: 0.2587 - val_loss: 5.9983 - val_accuracy: 0.2830\n",
      "Epoch 12/20\n",
      "1563/1563 [==============================] - 4s 3ms/step - loss: 6.0281 - accuracy: 0.2244 - val_loss: 6.0147 - val_accuracy: 0.2818\n",
      "Epoch 13/20\n",
      "1563/1563 [==============================] - 4s 3ms/step - loss: 6.0241 - accuracy: 0.2421 - val_loss: 6.0176 - val_accuracy: 0.2183\n",
      "Epoch 14/20\n",
      "1563/1563 [==============================] - 4s 3ms/step - loss: 5.9971 - accuracy: 0.2515 - val_loss: 6.0093 - val_accuracy: 0.2437\n",
      "Epoch 15/20\n",
      "1563/1563 [==============================] - 4s 3ms/step - loss: 6.0003 - accuracy: 0.2563 - val_loss: 5.9851 - val_accuracy: 0.2834\n",
      "Epoch 16/20\n",
      "1563/1563 [==============================] - 4s 2ms/step - loss: 6.0057 - accuracy: 0.2452 - val_loss: 6.0017 - val_accuracy: 0.2916\n",
      "Epoch 17/20\n",
      "1563/1563 [==============================] - 4s 2ms/step - loss: 5.9874 - accuracy: 0.2611 - val_loss: 5.9627 - val_accuracy: 0.2930\n",
      "Epoch 18/20\n",
      "1563/1563 [==============================] - 4s 2ms/step - loss: 6.0115 - accuracy: 0.2307 - val_loss: 5.9619 - val_accuracy: 0.2900\n",
      "Epoch 19/20\n",
      "1563/1563 [==============================] - 4s 3ms/step - loss: 5.9912 - accuracy: 0.2657 - val_loss: 5.9824 - val_accuracy: 0.2935\n",
      "Epoch 20/20\n",
      "1563/1563 [==============================] - 4s 3ms/step - loss: 5.9697 - accuracy: 0.2807 - val_loss: 5.9852 - val_accuracy: 0.3007\n"
     ]
    },
    {
     "data": {
      "text/plain": [
       "<keras.src.callbacks.History at 0x289dfb650>"
      ]
     },
     "execution_count": 4,
     "metadata": {},
     "output_type": "execute_result"
    }
   ],
   "source": [
    "from tensorflow.keras import layers, models\n",
    "\n",
    "model = models.Sequential()\n",
    "model.add(layers.Flatten(input_shape=(32, 32, 3)))\n",
    "model.add(layers.Dense(512, activation='relu'))\n",
    "model.add(layers.Dense(10, activation='relu'))\n",
    "\n",
    "model.summary()\n",
    "\n",
    "model.compile(optimizer='adam',\n",
    "              loss='categorical_crossentropy',\n",
    "              metrics=['accuracy'])\n",
    "model.fit(x_train, y_train, epochs=20, batch_size=32, validation_data=(x_test, y_test))"
   ]
  },
  {
   "cell_type": "code",
   "execution_count": 5,
   "metadata": {},
   "outputs": [],
   "source": [
    "\n",
    "model_cnn = models.Sequential()\n",
    "# version clean of cnn with batch norm and dropout\n",
    "# first convolution layer (batch norm ==> conv 3x3 ==> max pool 2x2)\n",
    "model_cnn.add(layers.BatchNormalization())\n",
    "model_cnn.add(layers.Conv2D(32, (3, 3), activation='relu', input_shape=(32, 32, 3)))\n",
    "model_cnn.add(layers.Dropout(0.05))\n",
    "model_cnn.add(layers.MaxPooling2D((2, 2)))\n",
    "\n",
    "\n",
    "model_cnn.add(layers.BatchNormalization())\n",
    "model_cnn.add(layers.Conv2D(64, (3, 3), activation='relu'))\n",
    "model_cnn.add(layers.Dropout(0.05))\n",
    "model_cnn.add(layers.MaxPooling2D((2, 2)))\n",
    "\n",
    "model_cnn.add(layers.BatchNormalization())\n",
    "model_cnn.add(layers.Flatten())\n",
    "model_cnn.add(layers.Dropout(0.5))\n",
    "model_cnn.add(layers.Dense(64, activation='relu'))\n",
    "model_cnn.add(layers.BatchNormalization())\n",
    "model_cnn.add(layers.Dropout(0.1))\n",
    "model_cnn.add(layers.Dense(10, activation='softmax'))\n",
    "\n",
    "model_cnn.compile(optimizer='adam',\n",
    "              loss='categorical_crossentropy',\n",
    "              metrics=['accuracy'])\n"
   ]
  },
  {
   "cell_type": "code",
   "execution_count": 6,
   "metadata": {},
   "outputs": [
    {
     "name": "stdout",
     "output_type": "stream",
     "text": [
      "Epoch 1/13\n",
      "3119/3125 [============================>.] - ETA: 0s - loss: 1.4607 - accuracy: 0.4796\n",
      "Epoch 1: val_accuracy improved from -inf to 0.58800, saving model to best_model_epoch.hdf5\n",
      "3125/3125 [==============================] - 24s 7ms/step - loss: 1.4603 - accuracy: 0.4797 - val_loss: 1.1550 - val_accuracy: 0.5880\n",
      "Epoch 2/13\n",
      "  20/3125 [..............................] - ETA: 25s - loss: 1.2835 - accuracy: 0.5625"
     ]
    },
    {
     "name": "stderr",
     "output_type": "stream",
     "text": [
      "/Users/yuss/Documents/cours_m2/machineLearning/tp4/venv/lib/python3.11/site-packages/keras/src/engine/training.py:3103: UserWarning: You are saving your model as an HDF5 file via `model.save()`. This file format is considered legacy. We recommend using instead the native Keras format, e.g. `model.save('my_model.keras')`.\n",
      "  saving_api.save_model(\n"
     ]
    },
    {
     "name": "stdout",
     "output_type": "stream",
     "text": [
      "3122/3125 [============================>.] - ETA: 0s - loss: 1.1628 - accuracy: 0.5920\n",
      "Epoch 2: val_accuracy improved from 0.58800 to 0.66810, saving model to best_model_epoch.hdf5\n",
      "3125/3125 [==============================] - 26s 8ms/step - loss: 1.1626 - accuracy: 0.5921 - val_loss: 0.9512 - val_accuracy: 0.6681\n",
      "Epoch 3/13\n",
      "3120/3125 [============================>.] - ETA: 0s - loss: 1.0578 - accuracy: 0.6306\n",
      "Epoch 3: val_accuracy improved from 0.66810 to 0.69640, saving model to best_model_epoch.hdf5\n",
      "3125/3125 [==============================] - 45s 14ms/step - loss: 1.0577 - accuracy: 0.6307 - val_loss: 0.8746 - val_accuracy: 0.6964\n",
      "Epoch 4/13\n",
      "3124/3125 [============================>.] - ETA: 0s - loss: 0.9942 - accuracy: 0.6546\n",
      "Epoch 4: val_accuracy improved from 0.69640 to 0.70330, saving model to best_model_epoch.hdf5\n",
      "3125/3125 [==============================] - 28s 9ms/step - loss: 0.9943 - accuracy: 0.6546 - val_loss: 0.8584 - val_accuracy: 0.7033\n",
      "Epoch 5/13\n",
      "3122/3125 [============================>.] - ETA: 0s - loss: 0.9548 - accuracy: 0.6698\n",
      "Epoch 5: val_accuracy improved from 0.70330 to 0.70840, saving model to best_model_epoch.hdf5\n",
      "3125/3125 [==============================] - 29s 9ms/step - loss: 0.9547 - accuracy: 0.6699 - val_loss: 0.8373 - val_accuracy: 0.7084\n",
      "Epoch 6/13\n",
      "3123/3125 [============================>.] - ETA: 0s - loss: 0.9151 - accuracy: 0.6812\n",
      "Epoch 6: val_accuracy improved from 0.70840 to 0.73810, saving model to best_model_epoch.hdf5\n",
      "3125/3125 [==============================] - 29s 9ms/step - loss: 0.9150 - accuracy: 0.6812 - val_loss: 0.7688 - val_accuracy: 0.7381\n",
      "Epoch 7/13\n",
      "3120/3125 [============================>.] - ETA: 0s - loss: 0.8861 - accuracy: 0.6918\n",
      "Epoch 7: val_accuracy did not improve from 0.73810\n",
      "3125/3125 [==============================] - 26s 8ms/step - loss: 0.8858 - accuracy: 0.6919 - val_loss: 0.7573 - val_accuracy: 0.7361\n",
      "Epoch 8/13\n",
      "3120/3125 [============================>.] - ETA: 0s - loss: 0.8670 - accuracy: 0.6976\n",
      "Epoch 8: val_accuracy improved from 0.73810 to 0.74200, saving model to best_model_epoch.hdf5\n",
      "3125/3125 [==============================] - 27s 9ms/step - loss: 0.8670 - accuracy: 0.6976 - val_loss: 0.7410 - val_accuracy: 0.7420\n",
      "Epoch 9/13\n",
      "3124/3125 [============================>.] - ETA: 0s - loss: 0.8463 - accuracy: 0.7041\n",
      "Epoch 9: val_accuracy improved from 0.74200 to 0.74850, saving model to best_model_epoch.hdf5\n",
      "3125/3125 [==============================] - 27s 9ms/step - loss: 0.8464 - accuracy: 0.7041 - val_loss: 0.7385 - val_accuracy: 0.7485\n",
      "Epoch 10/13\n",
      "3123/3125 [============================>.] - ETA: 0s - loss: 0.8329 - accuracy: 0.7104\n",
      "Epoch 10: val_accuracy improved from 0.74850 to 0.75210, saving model to best_model_epoch.hdf5\n",
      "3125/3125 [==============================] - 29s 9ms/step - loss: 0.8329 - accuracy: 0.7104 - val_loss: 0.7174 - val_accuracy: 0.7521\n",
      "Epoch 11/13\n",
      "3123/3125 [============================>.] - ETA: 0s - loss: 0.8154 - accuracy: 0.7165\n",
      "Epoch 11: val_accuracy improved from 0.75210 to 0.75550, saving model to best_model_epoch.hdf5\n",
      "3125/3125 [==============================] - 24s 8ms/step - loss: 0.8154 - accuracy: 0.7165 - val_loss: 0.7019 - val_accuracy: 0.7555\n",
      "Epoch 12/13\n",
      "3119/3125 [============================>.] - ETA: 0s - loss: 0.8080 - accuracy: 0.7184\n",
      "Epoch 12: val_accuracy improved from 0.75550 to 0.75690, saving model to best_model_epoch.hdf5\n",
      "3125/3125 [==============================] - 22s 7ms/step - loss: 0.8082 - accuracy: 0.7183 - val_loss: 0.7075 - val_accuracy: 0.7569\n",
      "Epoch 13/13\n",
      "3117/3125 [============================>.] - ETA: 0s - loss: 0.7910 - accuracy: 0.7242\n",
      "Epoch 13: val_accuracy improved from 0.75690 to 0.76380, saving model to best_model_epoch.hdf5\n",
      "3125/3125 [==============================] - 21s 7ms/step - loss: 0.7908 - accuracy: 0.7242 - val_loss: 0.6966 - val_accuracy: 0.7638\n"
     ]
    }
   ],
   "source": [
    "# fit and train model_cnn here \n",
    "# Saves the best epoch given by Hugo\n",
    "from tensorflow.keras.callbacks import ModelCheckpoint\n",
    "\n",
    "checkpoint = ModelCheckpoint(\"best_model_epoch.hdf5\", monitor='val_accuracy', verbose=1, save_best_only=True, mode='max')\n",
    "callbacks_list = [checkpoint]\n",
    "\n",
    "model_cnn.fit(x_train, y_train,batch_size=16, epochs=13, validation_data=(x_test, y_test),callbacks=callbacks_list)\n",
    "\n",
    "\n",
    "model.save('model.keras')\n",
    "model_cnn.save('model_cnn.keras')\n",
    "\n"
   ]
  },
  {
   "cell_type": "code",
   "execution_count": 12,
   "metadata": {},
   "outputs": [
    {
     "name": "stdout",
     "output_type": "stream",
     "text": [
      "1/1 [==============================] - 0s 11ms/step\n"
     ]
    },
    {
     "data": {
      "image/png": "[encoded data removed]",
      "text/plain": [
       "<Figure size 2000x2000 with 5 Axes>"
      ]
     },
     "metadata": {},
     "output_type": "display_data"
    }
   ],
   "source": [
    "import matplotlib.pyplot as plt\n",
    "import random\n",
    "\n",
    "images = x_test[random.sample(range(0, len(x_test)), 5)]\n",
    "# predict the class of each image\n",
    "predictions = model_cnn.predict(images)\n",
    "classes = [\"airplane\",\"automobile\",\"bird\",\"cat\",\"deer\",\"dog\",\"frog\",\"horse\",\"ship\",\"truck\"]\n",
    "# show the images\n",
    "fig = plt.figure(figsize=(20, 20))\n",
    "for i in range(len(images)):\n",
    "    fig.add_subplot(1, 5, (i+1)*1)\n",
    "    plt.imshow(images[i])\n",
    "    plt.axis('off')\n",
    "    best = max(predictions[i])\n",
    "    class_name = classes[list(predictions[i]).index(best)]\n",
    "    plt.title(class_name+ \" \"+ str(best))"
   ]
  }
 ],
 "metadata": {
  "kernelspec": {
   "display_name": "venv",
   "language": "python",
   "name": "python3"
  },
  "language_info": {
   "codemirror_mode": {
    "name": "ipython",
    "version": 3
   },
   "file_extension": ".py",
   "mimetype": "text/x-python",
   "name": "python",
   "nbconvert_exporter": "python",
   "pygments_lexer": "ipython3",
   "version": "3.11.6"
  }
 },
 "nbformat": 4,
 "nbformat_minor": 2
}

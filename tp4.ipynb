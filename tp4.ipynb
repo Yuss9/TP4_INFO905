{
 "cells": [
  {
   "cell_type": "code",
   "execution_count": null,
   "metadata": {},
   "outputs": [],
   "source": [
    "import tensorflow as tf\n",
    "(x_train, y_train), (x_test, y_test) = tf.keras.datasets.cifar10.load_data()"
   ]
  },
  {
   "cell_type": "code",
   "execution_count": null,
   "metadata": {},
   "outputs": [],
   "source": [
    "print(\"Taille du dataset d'entraînement :\", x_train.shape)\n",
    "print(\"Taille du dataset de test :\", x_test.shape)\n",
    "print(\"Nombre d'images d'entraînement :\", len(x_train))\n",
    "print(\"Nombre d'images de test :\", len(x_test))\n",
    "num_classes = len(set(y_train.flatten()))\n",
    "print(\"Nombre de classes :\", num_classes)"
   ]
  },
  {
   "cell_type": "code",
   "execution_count": null,
   "metadata": {},
   "outputs": [],
   "source": [
    "from tensorflow.keras.utils import to_categorical\n",
    "\n",
    "x_train = x_train / 255.0\n",
    "x_test = x_test / 255.0\n",
    "\n",
    "# One-hot encoding des étiquettes\n",
    "num_classes = 10  \n",
    "y_train = to_categorical(y_train, num_classes)\n",
    "y_test = to_categorical(y_test, num_classes)"
   ]
  },
  {
   "cell_type": "code",
   "execution_count": null,
   "metadata": {},
   "outputs": [],
   "source": [
    "from tensorflow.keras import layers, models\n",
    "\n",
    "model = models.Sequential()\n",
    "model.add(layers.Flatten(input_shape=(32, 32, 3)))\n",
    "model.add(layers.Dense(512, activation='relu'))\n",
    "model.add(layers.Dense(10, activation='relu'))\n",
    "\n",
    "model.summary()\n",
    "\n",
    "model.compile(optimizer='adam',\n",
    "              loss='categorical_crossentropy',\n",
    "              metrics=['accuracy'])\n",
    "model.fit(x_train, y_train, epochs=20, batch_size=32, validation_data=(x_test, y_test))"
   ]
  },
  {
   "cell_type": "code",
   "execution_count": null,
   "metadata": {},
   "outputs": [],
   "source": [
    "\n",
    "model_cnn = models.Sequential()\n",
    "# version clean of cnn with batch norm and dropout\n",
    "# first convolution layer (batch norm ==> conv 3x3 ==> max pool 2x2)\n",
    "model_cnn.add(layers.BatchNormalization())\n",
    "model_cnn.add(layers.Conv2D(32, (3, 3), activation='relu', input_shape=(32, 32, 3)))\n",
    "model_cnn.add(layers.Dropout(0.05))\n",
    "model_cnn.add(layers.MaxPooling2D((2, 2)))\n",
    "\n",
    "\n",
    "model_cnn.add(layers.BatchNormalization())\n",
    "model_cnn.add(layers.Conv2D(64, (3, 3), activation='relu'))\n",
    "model_cnn.add(layers.Dropout(0.05))\n",
    "model_cnn.add(layers.MaxPooling2D((2, 2)))\n",
    "\n",
    "model_cnn.add(layers.BatchNormalization())\n",
    "model_cnn.add(layers.Flatten())\n",
    "model_cnn.add(layers.Dropout(0.5))\n",
    "model_cnn.add(layers.Dense(64, activation='relu'))\n",
    "model_cnn.add(layers.BatchNormalization())\n",
    "model_cnn.add(layers.Dropout(0.1))\n",
    "model_cnn.add(layers.Dense(10, activation='softmax'))\n",
    "\n",
    "model_cnn.compile(optimizer='adam',\n",
    "              loss='categorical_crossentropy',\n",
    "              metrics=['accuracy'])\n"
   ]
  },
  {
   "cell_type": "code",
   "execution_count": null,
   "metadata": {},
   "outputs": [],
   "source": [
    "# fit and train model_cnn here "
   ]
  },
  {
   "cell_type": "code",
   "execution_count": null,
   "metadata": {},
   "outputs": [],
   "source": [
    "import matplotlib.pyplot as plt\n",
    "import random\n",
    "\n",
    "images = x_test[random.sample(range(0, len(x_test)), 5)]\n",
    "# predict the class of each image\n",
    "predictions = model_cnn.predict(images)\n",
    "classes = [\"airplane\",\"automobile\",\"bird\",\"cat\",\"deer\",\"dog\",\"frog\",\"horse\",\"ship\",\"truck\"]\n",
    "# show the images\n",
    "fig = plt.figure(figsize=(20, 20))\n",
    "for i in range(len(images)):\n",
    "    fig.add_subplot(1, 5, (i+1)*1)\n",
    "    plt.imshow(images[i])\n",
    "    plt.axis('off')\n",
    "    best = max(predictions[i])\n",
    "    class_name = classes[list(predictions[i]).index(best)]\n",
    "    plt.title(class_name+ \" \"+ str(best))"
   ]
  }
 ],
 "metadata": {
  "language_info": {
   "name": "python"
  }
 },
 "nbformat": 4,
 "nbformat_minor": 2
}

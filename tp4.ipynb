{
 "cells": [
  {
   "cell_type": "code",
   "execution_count": 28,
   "metadata": {},
   "outputs": [],
   "source": [
    "import tensorflow as tf\n",
    "from tensorflow.keras.utils import to_categorical\n",
    "from tensorflow.keras import layers, models\n",
    "from tensorflow.keras.callbacks import ModelCheckpoint\n",
    "import matplotlib.pyplot as plt\n",
    "import random\n",
    "\n",
    "# Charger les données du dataset CIFAR-10\n",
    "(x_train, y_train), (x_test, y_test) = tf.keras.datasets.cifar10.load_data()\n",
    "\n"
   ]
  },
  {
   "cell_type": "code",
   "execution_count": 29,
   "metadata": {},
   "outputs": [
    {
     "name": "stdout",
     "output_type": "stream",
     "text": [
      "Taille du dataset d'entraînement : (50000, 32, 32, 3)\n",
      "Taille du dataset de test : (10000, 32, 32, 3)\n",
      "Nombre d'images d'entraînement : 50000\n",
      "Nombre d'images de test : 10000\n",
      "Nombre de classes : 10\n"
     ]
    }
   ],
   "source": [
    "# Afficher des informations sur le dataset\n",
    "print(\"Taille du dataset d'entraînement :\", x_train.shape)\n",
    "print(\"Taille du dataset de test :\", x_test.shape)\n",
    "print(\"Nombre d'images d'entraînement :\", len(x_train))\n",
    "print(\"Nombre d'images de test :\", len(x_test))\n",
    "num_classes = len(set(y_train.flatten()))\n",
    "print(\"Nombre de classes :\", num_classes)"
   ]
  },
  {
   "cell_type": "code",
   "execution_count": 30,
   "metadata": {},
   "outputs": [],
   "source": [
    "# Normaliser les images et effectuer le one-hot encoding des étiquettes\n",
    "x_train = x_train / 255.0\n",
    "x_test = x_test / 255.0\n",
    "y_train = to_categorical(y_train, num_classes)\n",
    "y_test = to_categorical(y_test, num_classes)\n"
   ]
  },
  {
   "cell_type": "code",
   "execution_count": 31,
   "metadata": {},
   "outputs": [
    {
     "name": "stdout",
     "output_type": "stream",
     "text": [
      "Model: \"sequential_5\"\n",
      "_________________________________________________________________\n",
      " Layer (type)                Output Shape              Param #   \n",
      "=================================================================\n",
      " flatten_5 (Flatten)         (None, 3072)              0         \n",
      "                                                                 \n",
      " dense_10 (Dense)            (None, 512)               1573376   \n",
      "                                                                 \n",
      " dense_11 (Dense)            (None, 10)                5130      \n",
      "                                                                 \n",
      "=================================================================\n",
      "Total params: 1578506 (6.02 MB)\n",
      "Trainable params: 1578506 (6.02 MB)\n",
      "Non-trainable params: 0 (0.00 Byte)\n",
      "_________________________________________________________________\n",
      "Epoch 1/20\n",
      "1563/1563 [==============================] - 4s 3ms/step - loss: 4.7990 - accuracy: 0.1704 - val_loss: 4.7293 - val_accuracy: 0.2160\n",
      "Epoch 2/20\n",
      "1563/1563 [==============================] - 4s 3ms/step - loss: 4.7778 - accuracy: 0.1748 - val_loss: 4.8209 - val_accuracy: 0.1013\n",
      "Epoch 3/20\n",
      "1563/1563 [==============================] - 4s 3ms/step - loss: 4.7779 - accuracy: 0.1534 - val_loss: 4.7842 - val_accuracy: 0.1052\n",
      "Epoch 4/20\n",
      "1563/1563 [==============================] - 4s 3ms/step - loss: 4.7381 - accuracy: 0.2199 - val_loss: 4.7199 - val_accuracy: 0.1390\n",
      "Epoch 5/20\n",
      "1563/1563 [==============================] - 4s 3ms/step - loss: 4.7233 - accuracy: 0.2487 - val_loss: 4.7283 - val_accuracy: 0.1822\n",
      "Epoch 6/20\n",
      "1563/1563 [==============================] - 5s 3ms/step - loss: 4.6933 - accuracy: 0.2275 - val_loss: 4.6682 - val_accuracy: 0.2160\n",
      "Epoch 7/20\n",
      "1563/1563 [==============================] - 4s 3ms/step - loss: 4.7027 - accuracy: 0.2514 - val_loss: 4.6804 - val_accuracy: 0.2393\n",
      "Epoch 8/20\n",
      "1563/1563 [==============================] - 4s 3ms/step - loss: 4.7296 - accuracy: 0.2233 - val_loss: 4.6300 - val_accuracy: 0.2888\n",
      "Epoch 9/20\n",
      "1563/1563 [==============================] - 4s 3ms/step - loss: 4.7280 - accuracy: 0.2154 - val_loss: 4.6461 - val_accuracy: 0.2791\n",
      "Epoch 10/20\n",
      "1563/1563 [==============================] - 4s 3ms/step - loss: 4.7281 - accuracy: 0.2067 - val_loss: 4.6272 - val_accuracy: 0.3067\n",
      "Epoch 11/20\n",
      "1563/1563 [==============================] - 4s 2ms/step - loss: 4.7062 - accuracy: 0.2312 - val_loss: 4.8237 - val_accuracy: 0.1041\n",
      "Epoch 12/20\n",
      "1563/1563 [==============================] - 4s 3ms/step - loss: 4.7359 - accuracy: 0.1734 - val_loss: 4.6804 - val_accuracy: 0.1777\n",
      "Epoch 13/20\n",
      "1563/1563 [==============================] - 4s 3ms/step - loss: 4.6972 - accuracy: 0.2279 - val_loss: 4.7075 - val_accuracy: 0.1333\n",
      "Epoch 14/20\n",
      "1563/1563 [==============================] - 4s 3ms/step - loss: 4.6673 - accuracy: 0.2668 - val_loss: 4.6395 - val_accuracy: 0.3060\n",
      "Epoch 15/20\n",
      "1563/1563 [==============================] - 4s 3ms/step - loss: 4.6831 - accuracy: 0.2228 - val_loss: 4.6480 - val_accuracy: 0.2631\n",
      "Epoch 16/20\n",
      "1563/1563 [==============================] - 4s 3ms/step - loss: 4.6496 - accuracy: 0.2664 - val_loss: 4.7166 - val_accuracy: 0.2366\n",
      "Epoch 17/20\n",
      "1563/1563 [==============================] - 4s 3ms/step - loss: 4.6364 - accuracy: 0.2833 - val_loss: 4.7640 - val_accuracy: 0.3211\n",
      "Epoch 18/20\n",
      "1563/1563 [==============================] - 4s 3ms/step - loss: 4.6540 - accuracy: 0.2624 - val_loss: 4.6148 - val_accuracy: 0.3133\n",
      "Epoch 19/20\n",
      "1563/1563 [==============================] - 4s 3ms/step - loss: 4.6733 - accuracy: 0.2187 - val_loss: 4.6193 - val_accuracy: 0.2988\n",
      "Epoch 20/20\n",
      "1563/1563 [==============================] - 4s 3ms/step - loss: 4.6370 - accuracy: 0.2908 - val_loss: 4.6353 - val_accuracy: 0.2860\n"
     ]
    }
   ],
   "source": [
    "# Créer et compiler le modèle séquentiel\n",
    "model = models.Sequential()\n",
    "model.add(layers.Flatten(input_shape=(32, 32, 3)))\n",
    "model.add(layers.Dense(512, activation='relu'))\n",
    "model.add(layers.Dense(10, activation='relu'))\n",
    "model.summary()\n",
    "model.compile(optimizer='adam', loss='categorical_crossentropy', metrics=['accuracy'])\n",
    "\n",
    "# Entraîner le modèle\n",
    "model.fit(x_train, y_train, epochs=20, batch_size=32, validation_data=(x_test, y_test))\n",
    "\n",
    "model.save('model.keras')\n",
    "\n"
   ]
  },
  {
   "cell_type": "markdown",
   "metadata": {},
   "source": [
    "### Créer et compiler le modèle CNN\n"
   ]
  },
  {
   "cell_type": "code",
   "execution_count": 32,
   "metadata": {},
   "outputs": [],
   "source": [
    "\n",
    "# version clean of cnn with batch norm and dropout\n",
    "# first convolution layer (batch norm ==> conv 3x3 ==> max pool 2x2)\n",
    "model_cnn = models.Sequential()\n",
    "model_cnn.add(layers.BatchNormalization())\n",
    "model_cnn.add(layers.Conv2D(32, (3, 3), activation='relu', input_shape=(32, 32, 3)))\n",
    "model_cnn.add(layers.Dropout(0.05))\n",
    "model_cnn.add(layers.MaxPooling2D((2, 2)))\n",
    "\n",
    "model_cnn.add(layers.BatchNormalization())\n",
    "model_cnn.add(layers.Conv2D(64, (3, 3), activation='relu'))\n",
    "model_cnn.add(layers.Dropout(0.05))\n",
    "model_cnn.add(layers.MaxPooling2D((2, 2)))\n",
    "\n",
    "model_cnn.add(layers.BatchNormalization())\n",
    "model_cnn.add(layers.Flatten())\n",
    "model_cnn.add(layers.Dropout(0.5))\n",
    "model_cnn.add(layers.Dense(64, activation='relu'))\n",
    "model_cnn.add(layers.BatchNormalization())\n",
    "model_cnn.add(layers.Dropout(0.1))\n",
    "model_cnn.add(layers.Dense(10, activation='softmax'))\n",
    "\n",
    "model_cnn.compile(optimizer='adam', loss='categorical_crossentropy', metrics=['accuracy'])"
   ]
  },
  {
   "cell_type": "markdown",
   "metadata": {},
   "source": [
    "### Entraîner le modèle CNN en utilisant ModelCheckpoint pour sauvegarder le meilleur modèle\n"
   ]
  },
  {
   "cell_type": "code",
   "execution_count": 33,
   "metadata": {},
   "outputs": [
    {
     "name": "stdout",
     "output_type": "stream",
     "text": [
      "Epoch 1/13\n",
      "3117/3125 [============================>.] - ETA: 0s - loss: 1.4469 - accuracy: 0.4870\n",
      "Epoch 1: val_accuracy improved from -inf to 0.61410, saving model to best_model_epoch.hdf5\n",
      "3125/3125 [==============================] - 22s 7ms/step - loss: 1.4467 - accuracy: 0.4870 - val_loss: 1.1025 - val_accuracy: 0.6141\n",
      "Epoch 2/13\n",
      "  28/3125 [..............................] - ETA: 18s - loss: 1.1693 - accuracy: 0.6071"
     ]
    },
    {
     "name": "stderr",
     "output_type": "stream",
     "text": [
      "/Users/yuss/Documents/cours_m2/machineLearning/tp4/venv/lib/python3.11/site-packages/keras/src/engine/training.py:3103: UserWarning: You are saving your model as an HDF5 file via `model.save()`. This file format is considered legacy. We recommend using instead the native Keras format, e.g. `model.save('my_model.keras')`.\n",
      "  saving_api.save_model(\n"
     ]
    },
    {
     "name": "stdout",
     "output_type": "stream",
     "text": [
      "3122/3125 [============================>.] - ETA: 0s - loss: 1.1526 - accuracy: 0.5962\n",
      "Epoch 2: val_accuracy improved from 0.61410 to 0.66310, saving model to best_model_epoch.hdf5\n",
      "3125/3125 [==============================] - 22s 7ms/step - loss: 1.1525 - accuracy: 0.5962 - val_loss: 0.9704 - val_accuracy: 0.6631\n",
      "Epoch 3/13\n",
      "3119/3125 [============================>.] - ETA: 0s - loss: 1.0594 - accuracy: 0.6305\n",
      "Epoch 3: val_accuracy improved from 0.66310 to 0.69880, saving model to best_model_epoch.hdf5\n",
      "3125/3125 [==============================] - 19s 6ms/step - loss: 1.0594 - accuracy: 0.6305 - val_loss: 0.8713 - val_accuracy: 0.6988\n",
      "Epoch 4/13\n",
      "3121/3125 [============================>.] - ETA: 0s - loss: 0.9942 - accuracy: 0.6527\n",
      "Epoch 4: val_accuracy improved from 0.69880 to 0.70910, saving model to best_model_epoch.hdf5\n",
      "3125/3125 [==============================] - 22s 7ms/step - loss: 0.9941 - accuracy: 0.6527 - val_loss: 0.8401 - val_accuracy: 0.7091\n",
      "Epoch 5/13\n",
      "3119/3125 [============================>.] - ETA: 0s - loss: 0.9531 - accuracy: 0.6674\n",
      "Epoch 5: val_accuracy improved from 0.70910 to 0.72320, saving model to best_model_epoch.hdf5\n",
      "3125/3125 [==============================] - 23s 7ms/step - loss: 0.9536 - accuracy: 0.6673 - val_loss: 0.8012 - val_accuracy: 0.7232\n",
      "Epoch 6/13\n",
      "3121/3125 [============================>.] - ETA: 0s - loss: 0.9184 - accuracy: 0.6813\n",
      "Epoch 6: val_accuracy improved from 0.72320 to 0.73430, saving model to best_model_epoch.hdf5\n",
      "3125/3125 [==============================] - 21s 7ms/step - loss: 0.9185 - accuracy: 0.6812 - val_loss: 0.7792 - val_accuracy: 0.7343\n",
      "Epoch 7/13\n",
      "3118/3125 [============================>.] - ETA: 0s - loss: 0.8930 - accuracy: 0.6891\n",
      "Epoch 7: val_accuracy did not improve from 0.73430\n",
      "3125/3125 [==============================] - 21s 7ms/step - loss: 0.8932 - accuracy: 0.6891 - val_loss: 0.7913 - val_accuracy: 0.7244\n",
      "Epoch 8/13\n",
      "3125/3125 [==============================] - ETA: 0s - loss: 0.8695 - accuracy: 0.6984\n",
      "Epoch 8: val_accuracy improved from 0.73430 to 0.73890, saving model to best_model_epoch.hdf5\n",
      "3125/3125 [==============================] - 20s 6ms/step - loss: 0.8695 - accuracy: 0.6984 - val_loss: 0.7686 - val_accuracy: 0.7389\n",
      "Epoch 9/13\n",
      "3124/3125 [============================>.] - ETA: 0s - loss: 0.8467 - accuracy: 0.7063\n",
      "Epoch 9: val_accuracy improved from 0.73890 to 0.74770, saving model to best_model_epoch.hdf5\n",
      "3125/3125 [==============================] - 21s 7ms/step - loss: 0.8468 - accuracy: 0.7063 - val_loss: 0.7375 - val_accuracy: 0.7477\n",
      "Epoch 10/13\n",
      "3125/3125 [==============================] - ETA: 0s - loss: 0.8331 - accuracy: 0.7095\n",
      "Epoch 10: val_accuracy improved from 0.74770 to 0.74900, saving model to best_model_epoch.hdf5\n",
      "3125/3125 [==============================] - 20s 7ms/step - loss: 0.8331 - accuracy: 0.7095 - val_loss: 0.7296 - val_accuracy: 0.7490\n",
      "Epoch 11/13\n",
      "3125/3125 [==============================] - ETA: 0s - loss: 0.8202 - accuracy: 0.7146\n",
      "Epoch 11: val_accuracy improved from 0.74900 to 0.75320, saving model to best_model_epoch.hdf5\n",
      "3125/3125 [==============================] - 20s 7ms/step - loss: 0.8202 - accuracy: 0.7146 - val_loss: 0.7136 - val_accuracy: 0.7532\n",
      "Epoch 12/13\n",
      "3124/3125 [============================>.] - ETA: 0s - loss: 0.8053 - accuracy: 0.7195\n",
      "Epoch 12: val_accuracy improved from 0.75320 to 0.75370, saving model to best_model_epoch.hdf5\n",
      "3125/3125 [==============================] - 21s 7ms/step - loss: 0.8053 - accuracy: 0.7195 - val_loss: 0.7160 - val_accuracy: 0.7537\n",
      "Epoch 13/13\n",
      "3121/3125 [============================>.] - ETA: 0s - loss: 0.7983 - accuracy: 0.7223\n",
      "Epoch 13: val_accuracy improved from 0.75370 to 0.76380, saving model to best_model_epoch.hdf5\n",
      "3125/3125 [==============================] - 21s 7ms/step - loss: 0.7987 - accuracy: 0.7221 - val_loss: 0.6991 - val_accuracy: 0.7638\n"
     ]
    }
   ],
   "source": [
    "checkpoint = ModelCheckpoint(\"best_model_epoch.hdf5\", monitor='val_accuracy', verbose=1, save_best_only=True, mode='max')\n",
    "callbacks_list = [checkpoint]\n",
    "model_cnn.fit(x_train, y_train, batch_size=16, epochs=13, validation_data=(x_test, y_test), callbacks=callbacks_list)\n",
    "\n",
    "# Sauvegarder les modèles\n",
    "model_cnn.save('model_cnn.keras')"
   ]
  },
  {
   "cell_type": "markdown",
   "metadata": {},
   "source": [
    "### Afficher quelques images de test avec les prédictions du modèle CNN"
   ]
  },
  {
   "cell_type": "markdown",
   "metadata": {},
   "source": [
    "### Afficher les images avec les prédictions"
   ]
  },
  {
   "cell_type": "code",
   "execution_count": 55,
   "metadata": {},
   "outputs": [
    {
     "name": "stdout",
     "output_type": "stream",
     "text": [
      "1/1 [==============================] - 0s 12ms/step\n"
     ]
    },
    {
     "data": {
      "image/png": "[encoded data removed]",
      "text/plain": [
       "<Figure size 2000x2000 with 5 Axes>"
      ]
     },
     "metadata": {},
     "output_type": "display_data"
    }
   ],
   "source": [
    "images = x_test[random.sample(range(0, len(x_test)), 5)]\n",
    "# predict the class of each image\n",
    "predictions = model_cnn.predict(images)\n",
    "classes = [\"airplane\",\"automobile\",\"bird\",\"cat\",\"deer\",\"dog\",\"frog\",\"horse\",\"ship\",\"truck\"]\n",
    "# show the images\n",
    "fig = plt.figure(figsize=(20, 20))\n",
    "for i in range(len(images)):\n",
    "    fig.add_subplot(1, 5, (i+1)*1)\n",
    "    plt.imshow(images[i])\n",
    "    plt.axis('off')\n",
    "    best = max(predictions[i])\n",
    "    class_name = classes[list(predictions[i]).index(best)]\n",
    "    plt.title(class_name+ \" \"+ str(best))"
   ]
  }
 ],
 "metadata": {
  "kernelspec": {
   "display_name": "venv",
   "language": "python",
   "name": "python3"
  },
  "language_info": {
   "codemirror_mode": {
    "name": "ipython",
    "version": 3
   },
   "file_extension": ".py",
   "mimetype": "text/x-python",
   "name": "python",
   "nbconvert_exporter": "python",
   "pygments_lexer": "ipython3",
   "version": "3.11.6"
  }
 },
 "nbformat": 4,
 "nbformat_minor": 2
}

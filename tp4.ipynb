{
 "cells": [
  {
   "cell_type": "code",
   "execution_count": 1,
   "metadata": {},
   "outputs": [],
   "source": [
    "import tensorflow as tf\n",
    "from tensorflow.keras.utils import to_categorical\n",
    "from tensorflow.keras import layers, models\n",
    "from tensorflow.keras.callbacks import ModelCheckpoint\n",
    "import matplotlib.pyplot as plt\n",
    "import random\n",
    "\n",
    "# Charger les données du dataset CIFAR-10\n",
    "(x_train, y_train), (x_test, y_test) = tf.keras.datasets.cifar10.load_data()"
   ]
  },
  {
   "cell_type": "code",
   "execution_count": 2,
   "metadata": {},
   "outputs": [
    {
     "name": "stdout",
     "output_type": "stream",
     "text": [
      "Taille du dataset d'entraînement : (50000, 32, 32, 3)\n",
      "Taille du dataset de test : (10000, 32, 32, 3)\n",
      "Nombre d'images d'entraînement : 50000\n",
      "Nombre d'images de test : 10000\n",
      "Nombre de classes : 10\n"
     ]
    }
   ],
   "source": [
    "# Afficher des informations sur le dataset\n",
    "print(\"Taille du dataset d'entraînement :\", x_train.shape)\n",
    "print(\"Taille du dataset de test :\", x_test.shape)\n",
    "print(\"Nombre d'images d'entraînement :\", len(x_train))\n",
    "print(\"Nombre d'images de test :\", len(x_test))\n",
    "num_classes = len(set(y_train.flatten()))\n",
    "print(\"Nombre de classes :\", num_classes)"
   ]
  },
  {
   "cell_type": "code",
   "execution_count": 3,
   "metadata": {},
   "outputs": [],
   "source": [
    "# Normaliser les images et effectuer le one-hot encoding des étiquettes\n",
    "x_train = x_train / 255.0\n",
    "x_test = x_test / 255.0\n",
    "y_train = to_categorical(y_train, num_classes)\n",
    "y_test = to_categorical(y_test, num_classes)\n",
    "\n",
    "# Le one-hot encoding des étiquettes est utilisé pour représenter de manière binaire les catégories d'étiquettes dans un format adapté à l'entraînement d'un modèle de classification."
   ]
  },
  {
   "cell_type": "code",
   "execution_count": 4,
   "metadata": {},
   "outputs": [
    {
     "name": "stdout",
     "output_type": "stream",
     "text": [
      "Model: \"sequential\"\n",
      "_________________________________________________________________\n",
      " Layer (type)                Output Shape              Param #   \n",
      "=================================================================\n",
      " flatten (Flatten)           (None, 3072)              0         \n",
      "                                                                 \n",
      " dense (Dense)               (None, 512)               1573376   \n",
      "                                                                 \n",
      " dense_1 (Dense)             (None, 10)                5130      \n",
      "                                                                 \n",
      "=================================================================\n",
      "Total params: 1578506 (6.02 MB)\n",
      "Trainable params: 1578506 (6.02 MB)\n",
      "Non-trainable params: 0 (0.00 Byte)\n",
      "_________________________________________________________________\n",
      "Epoch 1/20\n",
      "1563/1563 [==============================] - 5s 3ms/step - loss: 8.8778 - accuracy: 0.1781 - val_loss: 7.4530 - val_accuracy: 0.1318\n",
      "Epoch 2/20\n",
      "1563/1563 [==============================] - 4s 3ms/step - loss: 7.3956 - accuracy: 0.2091 - val_loss: 7.3702 - val_accuracy: 0.2421\n",
      "Epoch 3/20\n",
      "1563/1563 [==============================] - 4s 3ms/step - loss: 6.6419 - accuracy: 0.1695 - val_loss: 6.0965 - val_accuracy: 0.1163\n",
      "Epoch 4/20\n",
      "1563/1563 [==============================] - 5s 3ms/step - loss: 6.0431 - accuracy: 0.2078 - val_loss: 6.0063 - val_accuracy: 0.2499\n",
      "Epoch 5/20\n",
      "1563/1563 [==============================] - 5s 3ms/step - loss: 6.0269 - accuracy: 0.2312 - val_loss: 6.0366 - val_accuracy: 0.1601\n",
      "Epoch 6/20\n",
      "1563/1563 [==============================] - 5s 3ms/step - loss: 6.0421 - accuracy: 0.1981 - val_loss: 6.0005 - val_accuracy: 0.2449\n",
      "Epoch 7/20\n",
      "1563/1563 [==============================] - 4s 3ms/step - loss: 6.0105 - accuracy: 0.2369 - val_loss: 5.9790 - val_accuracy: 0.2731\n",
      "Epoch 8/20\n",
      "1563/1563 [==============================] - 4s 3ms/step - loss: 5.9820 - accuracy: 0.2670 - val_loss: 6.0092 - val_accuracy: 0.2912\n",
      "Epoch 9/20\n",
      "1563/1563 [==============================] - 4s 3ms/step - loss: 6.0103 - accuracy: 0.2330 - val_loss: 6.0101 - val_accuracy: 0.2173\n",
      "Epoch 10/20\n",
      "1563/1563 [==============================] - 4s 3ms/step - loss: 6.0058 - accuracy: 0.2469 - val_loss: 5.9694 - val_accuracy: 0.2871\n",
      "Epoch 11/20\n",
      "1563/1563 [==============================] - 5s 3ms/step - loss: 5.9936 - accuracy: 0.2497 - val_loss: 5.9634 - val_accuracy: 0.2665\n",
      "Epoch 12/20\n",
      "1563/1563 [==============================] - 4s 3ms/step - loss: 5.9775 - accuracy: 0.2802 - val_loss: 5.9612 - val_accuracy: 0.2869\n",
      "Epoch 13/20\n",
      "1563/1563 [==============================] - 5s 3ms/step - loss: 5.9890 - accuracy: 0.2437 - val_loss: 5.9722 - val_accuracy: 0.2671\n",
      "Epoch 14/20\n",
      "1563/1563 [==============================] - 5s 3ms/step - loss: 5.9654 - accuracy: 0.2585 - val_loss: 6.0127 - val_accuracy: 0.1852\n",
      "Epoch 15/20\n",
      "1563/1563 [==============================] - 5s 3ms/step - loss: 5.9903 - accuracy: 0.2318 - val_loss: 5.9709 - val_accuracy: 0.2506\n",
      "Epoch 16/20\n",
      "1563/1563 [==============================] - 4s 3ms/step - loss: 6.0183 - accuracy: 0.2032 - val_loss: 5.9779 - val_accuracy: 0.2943\n",
      "Epoch 17/20\n",
      "1563/1563 [==============================] - 4s 3ms/step - loss: 5.9673 - accuracy: 0.2740 - val_loss: 5.9310 - val_accuracy: 0.3022\n",
      "Epoch 18/20\n",
      "1563/1563 [==============================] - 4s 3ms/step - loss: 5.9438 - accuracy: 0.2960 - val_loss: 6.0052 - val_accuracy: 0.2227\n",
      "Epoch 19/20\n",
      "1563/1563 [==============================] - 5s 3ms/step - loss: 5.9646 - accuracy: 0.2480 - val_loss: 5.9409 - val_accuracy: 0.2739\n",
      "Epoch 20/20\n",
      "1563/1563 [==============================] - 5s 3ms/step - loss: 5.9855 - accuracy: 0.2089 - val_loss: 5.9491 - val_accuracy: 0.2959\n"
     ]
    }
   ],
   "source": [
    "# Créer et compiler le modèle séquentiel\n",
    "model = models.Sequential()\n",
    "\n",
    "# Ajouter une couche Flatten pour convertir les images en vecteurs unidimensionnels\n",
    "model.add(layers.Flatten(input_shape=(32, 32, 3)))\n",
    "\n",
    "# Ajouter une couche dense avec 512 neurones et une fonction d'activation ReLU\n",
    "model.add(layers.Dense(512, activation='relu'))\n",
    "\n",
    "# Ajouter une autre couche dense avec 10 neurones (nombre de classes) et une fonction d'activation ReLU\n",
    "model.add(layers.Dense(10, activation='relu'))\n",
    "\n",
    "# Afficher un résumé du modèle, montrant la structure des couches et le nombre de paramètres\n",
    "model.summary()\n",
    "\n",
    "# Compiler le modèle avec l'optimiseur Adam, la fonction de perte categorical_crossentropy et la métrique accuracy\n",
    "model.compile(optimizer='adam', loss='categorical_crossentropy', metrics=['accuracy'])\n",
    "\n",
    "# Entraîner le modèle sur les données d'entraînement avec 20 epochs, un batch size de 32, et utiliser les données de validation\n",
    "model.fit(x_train, y_train, epochs=20, batch_size=32, validation_data=(x_test, y_test))\n",
    "\n",
    "# Sauvegarder le modèle dans un fichier 'model.keras'\n",
    "model.save('model.keras')\n"
   ]
  },
  {
   "cell_type": "markdown",
   "metadata": {},
   "source": [
    "### Créer et compiler le modèle CNN\n"
   ]
  },
  {
   "cell_type": "code",
   "execution_count": 5,
   "metadata": {},
   "outputs": [],
   "source": [
    "# version clean of cnn with batch norm and dropout\n",
    "# first convolution layer (batch norm ==> conv 3x3 ==> max pool 2x2)\n",
    "\n",
    "# Création d'un modèle séquentiel\n",
    "model_cnn = models.Sequential()\n",
    "\n",
    "# Ajout d'une couche de normalisation de lot (Batch Normalization)\n",
    "model_cnn.add(layers.BatchNormalization())\n",
    "\n",
    "# Ajout d'une couche de convolution 3x3 avec 32 filtres et fonction d'activation ReLU\n",
    "model_cnn.add(layers.Conv2D(32, (3, 3), activation='relu', input_shape=(32, 32, 3)))\n",
    "\n",
    "# Ajout d'une couche de dropout avec un taux de 0.05 pour régulariser le modèle\n",
    "model_cnn.add(layers.Dropout(0.05))\n",
    "\n",
    "# Ajout d'une couche de max pooling 2x2 pour réduire la dimensionnalité spatiale\n",
    "model_cnn.add(layers.MaxPooling2D((2, 2)))\n",
    "\n",
    "# Ajout d'une couche de normalisation de lot\n",
    "model_cnn.add(layers.BatchNormalization())\n",
    "\n",
    "# Ajout d'une couche de convolution 3x3 avec 64 filtres et fonction d'activation ReLU\n",
    "model_cnn.add(layers.Conv2D(64, (3, 3), activation='relu'))\n",
    "\n",
    "# Ajout d'une couche de dropout avec un taux de 0.05\n",
    "model_cnn.add(layers.Dropout(0.05))\n",
    "\n",
    "# Ajout d'une couche de max pooling 2x2\n",
    "model_cnn.add(layers.MaxPooling2D((2, 2)))\n",
    "\n",
    "# Ajout d'une couche de normalisation de lot\n",
    "model_cnn.add(layers.BatchNormalization())\n",
    "\n",
    "# Aplatir les données en un vecteur unidimensionnel\n",
    "model_cnn.add(layers.Flatten())\n",
    "\n",
    "# Ajout d'une couche de dropout avec un taux de 0.5\n",
    "model_cnn.add(layers.Dropout(0.5))\n",
    "\n",
    "# Ajout d'une couche dense avec 64 neurones et fonction d'activation ReLU\n",
    "model_cnn.add(layers.Dense(64, activation='relu'))\n",
    "\n",
    "# Ajout d'une couche de normalisation de lot\n",
    "model_cnn.add(layers.BatchNormalization())\n",
    "\n",
    "# Ajout d'une couche de dropout avec un taux de 0.1\n",
    "model_cnn.add(layers.Dropout(0.1))\n",
    "\n",
    "# Ajout d'une couche dense avec 10 neurones et fonction d'activation softmax pour la classification\n",
    "model_cnn.add(layers.Dense(10, activation='softmax'))\n",
    "\n",
    "# Compilation du modèle avec l'optimiseur Adam, la fonction de perte categorical_crossentropy, et la métrique accuracy\n",
    "model_cnn.compile(optimizer='adam', loss='categorical_crossentropy', metrics=['accuracy'])\n"
   ]
  },
  {
   "cell_type": "markdown",
   "metadata": {},
   "source": [
    "### Entraîner le modèle CNN en utilisant ModelCheckpoint pour sauvegarder le meilleur modèle\n"
   ]
  },
  {
   "cell_type": "code",
   "execution_count": 6,
   "metadata": {},
   "outputs": [
    {
     "name": "stdout",
     "output_type": "stream",
     "text": [
      "Epoch 1/13\n",
      "3123/3125 [============================>.] - ETA: 0s - loss: 1.4452 - accuracy: 0.4882\n",
      "Epoch 1: val_accuracy improved from -inf to 0.57990, saving model to best_model_epoch.hdf5\n",
      "3125/3125 [==============================] - 27s 9ms/step - loss: 1.4452 - accuracy: 0.4883 - val_loss: 1.1929 - val_accuracy: 0.5799\n",
      "Epoch 2/13\n",
      "  17/3125 [..............................] - ETA: 31s - loss: 1.1365 - accuracy: 0.6103"
     ]
    },
    {
     "name": "stderr",
     "output_type": "stream",
     "text": [
      "/Users/yuss/Documents/cours_m2/machineLearning/tp4/venv/lib/python3.11/site-packages/keras/src/engine/training.py:3103: UserWarning: You are saving your model as an HDF5 file via `model.save()`. This file format is considered legacy. We recommend using instead the native Keras format, e.g. `model.save('my_model.keras')`.\n",
      "  saving_api.save_model(\n"
     ]
    },
    {
     "name": "stdout",
     "output_type": "stream",
     "text": [
      "3120/3125 [============================>.] - ETA: 0s - loss: 1.1460 - accuracy: 0.5988\n",
      "Epoch 2: val_accuracy improved from 0.57990 to 0.67530, saving model to best_model_epoch.hdf5\n",
      "3125/3125 [==============================] - 35s 11ms/step - loss: 1.1457 - accuracy: 0.5989 - val_loss: 0.9470 - val_accuracy: 0.6753\n",
      "Epoch 3/13\n",
      "3120/3125 [============================>.] - ETA: 0s - loss: 1.0505 - accuracy: 0.6339\n",
      "Epoch 3: val_accuracy improved from 0.67530 to 0.70910, saving model to best_model_epoch.hdf5\n",
      "3125/3125 [==============================] - 33s 11ms/step - loss: 1.0505 - accuracy: 0.6338 - val_loss: 0.8559 - val_accuracy: 0.7091\n",
      "Epoch 4/13\n",
      "3123/3125 [============================>.] - ETA: 0s - loss: 0.9924 - accuracy: 0.6549\n",
      "Epoch 4: val_accuracy improved from 0.70910 to 0.71160, saving model to best_model_epoch.hdf5\n",
      "3125/3125 [==============================] - 32s 10ms/step - loss: 0.9922 - accuracy: 0.6550 - val_loss: 0.8336 - val_accuracy: 0.7116\n",
      "Epoch 5/13\n",
      "3125/3125 [==============================] - ETA: 0s - loss: 0.9437 - accuracy: 0.6721\n",
      "Epoch 5: val_accuracy improved from 0.71160 to 0.71750, saving model to best_model_epoch.hdf5\n",
      "3125/3125 [==============================] - 31s 10ms/step - loss: 0.9437 - accuracy: 0.6721 - val_loss: 0.8332 - val_accuracy: 0.7175\n",
      "Epoch 6/13\n",
      "3122/3125 [============================>.] - ETA: 0s - loss: 0.9160 - accuracy: 0.6812\n",
      "Epoch 6: val_accuracy improved from 0.71750 to 0.73170, saving model to best_model_epoch.hdf5\n",
      "3125/3125 [==============================] - 27s 9ms/step - loss: 0.9160 - accuracy: 0.6811 - val_loss: 0.7798 - val_accuracy: 0.7317\n",
      "Epoch 7/13\n",
      "3123/3125 [============================>.] - ETA: 0s - loss: 0.8813 - accuracy: 0.6935\n",
      "Epoch 7: val_accuracy improved from 0.73170 to 0.74140, saving model to best_model_epoch.hdf5\n",
      "3125/3125 [==============================] - 29s 9ms/step - loss: 0.8813 - accuracy: 0.6935 - val_loss: 0.7497 - val_accuracy: 0.7414\n",
      "Epoch 8/13\n",
      "3120/3125 [============================>.] - ETA: 0s - loss: 0.8606 - accuracy: 0.7007\n",
      "Epoch 8: val_accuracy did not improve from 0.74140\n",
      "3125/3125 [==============================] - 29s 9ms/step - loss: 0.8606 - accuracy: 0.7007 - val_loss: 0.7408 - val_accuracy: 0.7401\n",
      "Epoch 9/13\n",
      "3124/3125 [============================>.] - ETA: 0s - loss: 0.8438 - accuracy: 0.7072\n",
      "Epoch 9: val_accuracy improved from 0.74140 to 0.74890, saving model to best_model_epoch.hdf5\n",
      "3125/3125 [==============================] - 26s 8ms/step - loss: 0.8438 - accuracy: 0.7072 - val_loss: 0.7226 - val_accuracy: 0.7489\n",
      "Epoch 10/13\n",
      "3124/3125 [============================>.] - ETA: 0s - loss: 0.8234 - accuracy: 0.7141\n",
      "Epoch 10: val_accuracy improved from 0.74890 to 0.75300, saving model to best_model_epoch.hdf5\n",
      "3125/3125 [==============================] - 26s 8ms/step - loss: 0.8234 - accuracy: 0.7141 - val_loss: 0.7228 - val_accuracy: 0.7530\n",
      "Epoch 11/13\n",
      "3124/3125 [============================>.] - ETA: 0s - loss: 0.8137 - accuracy: 0.7168\n",
      "Epoch 11: val_accuracy improved from 0.75300 to 0.75550, saving model to best_model_epoch.hdf5\n",
      "3125/3125 [==============================] - 27s 8ms/step - loss: 0.8137 - accuracy: 0.7168 - val_loss: 0.7093 - val_accuracy: 0.7555\n",
      "Epoch 12/13\n",
      "3118/3125 [============================>.] - ETA: 0s - loss: 0.7993 - accuracy: 0.7216\n",
      "Epoch 12: val_accuracy did not improve from 0.75550\n",
      "3125/3125 [==============================] - 25s 8ms/step - loss: 0.7989 - accuracy: 0.7217 - val_loss: 0.7088 - val_accuracy: 0.7534\n",
      "Epoch 13/13\n",
      "3124/3125 [============================>.] - ETA: 0s - loss: 0.7934 - accuracy: 0.7253\n",
      "Epoch 13: val_accuracy improved from 0.75550 to 0.76300, saving model to best_model_epoch.hdf5\n",
      "3125/3125 [==============================] - 24s 8ms/step - loss: 0.7934 - accuracy: 0.7253 - val_loss: 0.6893 - val_accuracy: 0.7630\n"
     ]
    }
   ],
   "source": [
    "# Création d'un point de contrôle pour sauvegarder le meilleur modèle basé sur la précision de validation\n",
    "checkpoint = ModelCheckpoint(\"best_model_epoch.hdf5\", monitor='val_accuracy', verbose=1, save_best_only=True, mode='max')\n",
    "\n",
    "# Liste des rappels (callbacks) à utiliser pendant l'entraînement\n",
    "callbacks_list = [checkpoint]\n",
    "\n",
    "# Entraînement du modèle avec les données d'entraînement et de validation\n",
    "model_cnn.fit(x_train, y_train, batch_size=16, epochs=13, validation_data=(x_test, y_test), callbacks=callbacks_list)\n",
    "\n",
    "# Sauvegarde du modèle entraîné\n",
    "model_cnn.save('model_cnn.keras')\n"
   ]
  },
  {
   "cell_type": "markdown",
   "metadata": {},
   "source": [
    "### Afficher quelques images de test avec les prédictions du modèle CNN"
   ]
  },
  {
   "cell_type": "markdown",
   "metadata": {},
   "source": [
    "### Afficher les images avec les prédictions"
   ]
  },
  {
   "cell_type": "code",
   "execution_count": 10,
   "metadata": {},
   "outputs": [
    {
     "name": "stdout",
     "output_type": "stream",
     "text": [
      "1/1 [==============================] - 0s 19ms/step\n"
     ]
    },
    {
     "data": {
      "image/png": "[encoded data removed]",
      "text/plain": [
       "<Figure size 2000x2000 with 5 Axes>"
      ]
     },
     "metadata": {},
     "output_type": "display_data"
    }
   ],
   "source": [
    "# Sélection aléatoire de 5 images du jeu de test\n",
    "images = x_test[random.sample(range(0, len(x_test)), 5)]\n",
    "\n",
    "# Prédiction de la classe de chaque image à l'aide du modèle entraîné (model_cnn)\n",
    "predictions = model_cnn.predict(images)\n",
    "\n",
    "# Liste des classes possibles dans le jeu de données CIFAR-10\n",
    "classes = [\"airplane\", \"automobile\", \"bird\", \"cat\", \"deer\", \"dog\", \"frog\", \"horse\", \"ship\", \"truck\"]\n",
    "\n",
    "# Affichage des images prédites avec leurs classes et probabilités associées\n",
    "fig = plt.figure(figsize=(20, 20))\n",
    "for i in range(len(images)):\n",
    "    fig.add_subplot(1, 5, (i+1)*1)  # Configuration de la disposition des sous-graphiques (1 ligne, 5 colonnes)\n",
    "    plt.imshow(images[i])  # Affichage de l'image\n",
    "    plt.axis('off')  # Désactivation des axes\n",
    "    best = max(predictions[i])  # Récupération de la probabilité maximale prédite\n",
    "    class_name = classes[list(predictions[i]).index(best)]  # Récupération du nom de la classe correspondant à la probabilité maximale\n",
    "    plt.title(class_name + \" \" + str(best))  # Affichage du nom de la classe et de la probabilité maximale"
   ]
  }
 ],
 "metadata": {
  "kernelspec": {
   "display_name": "venv",
   "language": "python",
   "name": "python3"
  },
  "language_info": {
   "codemirror_mode": {
    "name": "ipython",
    "version": 3
   },
   "file_extension": ".py",
   "mimetype": "text/x-python",
   "name": "python",
   "nbconvert_exporter": "python",
   "pygments_lexer": "ipython3",
   "version": "3.11.6"
  }
 },
 "nbformat": 4,
 "nbformat_minor": 2
}

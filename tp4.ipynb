{
 "cells": [
  {
   "cell_type": "code",
   "execution_count": 1,
   "metadata": {},
   "outputs": [],
   "source": [
    "import tensorflow as tf\n",
    "from tensorflow.keras.utils import to_categorical\n",
    "from tensorflow.keras import layers, models\n",
    "from tensorflow.keras.callbacks import ModelCheckpoint\n",
    "import matplotlib.pyplot as plt\n",
    "import random\n",
    "\n",
    "# Charger les données du dataset CIFAR-10\n",
    "(x_train, y_train), (x_test, y_test) = tf.keras.datasets.cifar10.load_data()\n",
    "\n"
   ]
  },
  {
   "cell_type": "code",
   "execution_count": 2,
   "metadata": {},
   "outputs": [
    {
     "name": "stdout",
     "output_type": "stream",
     "text": [
      "Taille du dataset d'entraînement : (50000, 32, 32, 3)\n",
      "Taille du dataset de test : (10000, 32, 32, 3)\n",
      "Nombre d'images d'entraînement : 50000\n",
      "Nombre d'images de test : 10000\n",
      "Nombre de classes : 10\n"
     ]
    }
   ],
   "source": [
    "# Afficher des informations sur le dataset\n",
    "print(\"Taille du dataset d'entraînement :\", x_train.shape)\n",
    "print(\"Taille du dataset de test :\", x_test.shape)\n",
    "print(\"Nombre d'images d'entraînement :\", len(x_train))\n",
    "print(\"Nombre d'images de test :\", len(x_test))\n",
    "num_classes = len(set(y_train.flatten()))\n",
    "print(\"Nombre de classes :\", num_classes)"
   ]
  },
  {
   "cell_type": "code",
   "execution_count": 3,
   "metadata": {},
   "outputs": [],
   "source": [
    "# Normaliser les images et effectuer le one-hot encoding des étiquettes\n",
    "x_train = x_train / 255.0\n",
    "x_test = x_test / 255.0\n",
    "y_train = to_categorical(y_train, num_classes)\n",
    "y_test = to_categorical(y_test, num_classes)\n"
   ]
  },
  {
   "cell_type": "code",
   "execution_count": 4,
   "metadata": {},
   "outputs": [
    {
     "name": "stdout",
     "output_type": "stream",
     "text": [
      "Model: \"sequential\"\n",
      "_________________________________________________________________\n",
      " Layer (type)                Output Shape              Param #   \n",
      "=================================================================\n",
      " flatten (Flatten)           (None, 3072)              0         \n",
      "                                                                 \n",
      " dense (Dense)               (None, 512)               1573376   \n",
      "                                                                 \n",
      " dense_1 (Dense)             (None, 10)                5130      \n",
      "                                                                 \n",
      "=================================================================\n",
      "Total params: 1578506 (6.02 MB)\n",
      "Trainable params: 1578506 (6.02 MB)\n",
      "Non-trainable params: 0 (0.00 Byte)\n",
      "_________________________________________________________________\n",
      "Epoch 1/20\n",
      "1563/1563 [==============================] - 4s 2ms/step - loss: 7.4717 - accuracy: 0.1778 - val_loss: 7.4347 - val_accuracy: 0.1955\n",
      "Epoch 2/20\n",
      "1563/1563 [==============================] - 4s 2ms/step - loss: 7.4501 - accuracy: 0.1787 - val_loss: 7.4816 - val_accuracy: 0.2059\n",
      "Epoch 3/20\n",
      "1563/1563 [==============================] - 4s 2ms/step - loss: 7.4458 - accuracy: 0.1837 - val_loss: 7.4555 - val_accuracy: 0.1642\n",
      "Epoch 4/20\n",
      "1563/1563 [==============================] - 4s 2ms/step - loss: 7.4322 - accuracy: 0.2106 - val_loss: 7.4407 - val_accuracy: 0.1280\n",
      "Epoch 5/20\n",
      "1563/1563 [==============================] - 4s 2ms/step - loss: 7.4406 - accuracy: 0.1916 - val_loss: 7.3935 - val_accuracy: 0.2118\n",
      "Epoch 6/20\n",
      "1563/1563 [==============================] - 4s 2ms/step - loss: 7.4062 - accuracy: 0.2252 - val_loss: 7.3780 - val_accuracy: 0.2352\n",
      "Epoch 7/20\n",
      "1563/1563 [==============================] - 4s 2ms/step - loss: 7.4008 - accuracy: 0.2380 - val_loss: 7.5041 - val_accuracy: 0.1025\n",
      "Epoch 8/20\n",
      "1563/1563 [==============================] - 4s 2ms/step - loss: 7.4166 - accuracy: 0.2024 - val_loss: 7.3799 - val_accuracy: 0.2627\n",
      "Epoch 9/20\n",
      "1563/1563 [==============================] - 4s 2ms/step - loss: 7.3820 - accuracy: 0.2397 - val_loss: 7.3543 - val_accuracy: 0.2610\n",
      "Epoch 10/20\n",
      "1563/1563 [==============================] - 4s 2ms/step - loss: 7.3846 - accuracy: 0.2174 - val_loss: 7.3834 - val_accuracy: 0.2256\n",
      "Epoch 11/20\n",
      "1563/1563 [==============================] - 4s 2ms/step - loss: 7.3648 - accuracy: 0.2394 - val_loss: 7.3508 - val_accuracy: 0.2433\n",
      "Epoch 12/20\n",
      "1563/1563 [==============================] - 4s 2ms/step - loss: 7.3654 - accuracy: 0.2489 - val_loss: 7.3369 - val_accuracy: 0.2798\n",
      "Epoch 13/20\n",
      "1563/1563 [==============================] - 4s 2ms/step - loss: 7.3825 - accuracy: 0.2277 - val_loss: 7.3761 - val_accuracy: 0.2116\n",
      "Epoch 14/20\n",
      "1563/1563 [==============================] - 4s 2ms/step - loss: 7.3590 - accuracy: 0.2422 - val_loss: 7.4003 - val_accuracy: 0.2749\n",
      "Epoch 15/20\n",
      "1563/1563 [==============================] - 4s 2ms/step - loss: 7.3935 - accuracy: 0.1946 - val_loss: 7.4244 - val_accuracy: 0.1613\n",
      "Epoch 16/20\n",
      "1563/1563 [==============================] - 4s 2ms/step - loss: 7.3603 - accuracy: 0.2436 - val_loss: 7.3463 - val_accuracy: 0.2479\n",
      "Epoch 17/20\n",
      "1563/1563 [==============================] - 4s 2ms/step - loss: 7.3441 - accuracy: 0.2667 - val_loss: 7.3170 - val_accuracy: 0.2783\n",
      "Epoch 18/20\n",
      "1563/1563 [==============================] - 4s 2ms/step - loss: 7.3426 - accuracy: 0.2471 - val_loss: 7.3280 - val_accuracy: 0.2745\n",
      "Epoch 19/20\n",
      "1563/1563 [==============================] - 4s 2ms/step - loss: 7.3618 - accuracy: 0.2262 - val_loss: 7.3478 - val_accuracy: 0.2554\n",
      "Epoch 20/20\n",
      "1563/1563 [==============================] - 4s 2ms/step - loss: 7.3408 - accuracy: 0.2732 - val_loss: 7.3339 - val_accuracy: 0.2564\n"
     ]
    }
   ],
   "source": [
    "# Créer et compiler le modèle séquentiel\n",
    "model = models.Sequential()\n",
    "model.add(layers.Flatten(input_shape=(32, 32, 3)))\n",
    "model.add(layers.Dense(512, activation='relu'))\n",
    "model.add(layers.Dense(10, activation='relu'))\n",
    "model.summary()\n",
    "model.compile(optimizer='adam', loss='categorical_crossentropy', metrics=['accuracy'])\n",
    "\n",
    "# Entraîner le modèle\n",
    "model.fit(x_train, y_train, epochs=20, batch_size=32, validation_data=(x_test, y_test))\n",
    "\n",
    "model.save('model.keras')\n",
    "\n"
   ]
  },
  {
   "cell_type": "markdown",
   "metadata": {},
   "source": [
    "### Créer et compiler le modèle CNN\n"
   ]
  },
  {
   "cell_type": "code",
   "execution_count": 5,
   "metadata": {},
   "outputs": [],
   "source": [
    "\n",
    "# version clean of cnn with batch norm and dropout\n",
    "# first convolution layer (batch norm ==> conv 3x3 ==> max pool 2x2)\n",
    "model_cnn = models.Sequential()\n",
    "model_cnn.add(layers.BatchNormalization())\n",
    "model_cnn.add(layers.Conv2D(32, (3, 3), activation='relu', input_shape=(32, 32, 3)))\n",
    "model_cnn.add(layers.Dropout(0.05))\n",
    "model_cnn.add(layers.MaxPooling2D((2, 2)))\n",
    "\n",
    "model_cnn.add(layers.BatchNormalization())\n",
    "model_cnn.add(layers.Conv2D(64, (3, 3), activation='relu'))\n",
    "model_cnn.add(layers.Dropout(0.05))\n",
    "model_cnn.add(layers.MaxPooling2D((2, 2)))\n",
    "\n",
    "model_cnn.add(layers.BatchNormalization())\n",
    "model_cnn.add(layers.Flatten())\n",
    "model_cnn.add(layers.Dropout(0.5))\n",
    "model_cnn.add(layers.Dense(64, activation='relu'))\n",
    "model_cnn.add(layers.BatchNormalization())\n",
    "model_cnn.add(layers.Dropout(0.1))\n",
    "model_cnn.add(layers.Dense(10, activation='softmax'))\n",
    "\n",
    "model_cnn.compile(optimizer='adam', loss='categorical_crossentropy', metrics=['accuracy'])"
   ]
  },
  {
   "cell_type": "markdown",
   "metadata": {},
   "source": [
    "### Entraîner le modèle CNN en utilisant ModelCheckpoint pour sauvegarder le meilleur modèle\n"
   ]
  },
  {
   "cell_type": "code",
   "execution_count": 6,
   "metadata": {},
   "outputs": [
    {
     "name": "stdout",
     "output_type": "stream",
     "text": [
      "Epoch 1/13\n",
      "3121/3125 [============================>.] - ETA: 0s - loss: 1.4465 - accuracy: 0.4886\n",
      "Epoch 1: val_accuracy improved from -inf to 0.63240, saving model to best_model_epoch.hdf5\n",
      "3125/3125 [==============================] - 22s 7ms/step - loss: 1.4463 - accuracy: 0.4888 - val_loss: 1.0552 - val_accuracy: 0.6324\n",
      "Epoch 2/13\n",
      "  13/3125 [..............................] - ETA: 27s - loss: 1.1195 - accuracy: 0.6154"
     ]
    },
    {
     "name": "stderr",
     "output_type": "stream",
     "text": [
      "/Users/yuss/Documents/cours_m2/machineLearning/tp4/venv/lib/python3.11/site-packages/keras/src/engine/training.py:3103: UserWarning: You are saving your model as an HDF5 file via `model.save()`. This file format is considered legacy. We recommend using instead the native Keras format, e.g. `model.save('my_model.keras')`.\n",
      "  saving_api.save_model(\n"
     ]
    },
    {
     "name": "stdout",
     "output_type": "stream",
     "text": [
      "3124/3125 [============================>.] - ETA: 0s - loss: 1.1450 - accuracy: 0.5974\n",
      "Epoch 2: val_accuracy improved from 0.63240 to 0.67440, saving model to best_model_epoch.hdf5\n",
      "3125/3125 [==============================] - 26s 8ms/step - loss: 1.1451 - accuracy: 0.5973 - val_loss: 0.9436 - val_accuracy: 0.6744\n",
      "Epoch 3/13\n",
      "3119/3125 [============================>.] - ETA: 0s - loss: 1.0458 - accuracy: 0.6326\n",
      "Epoch 3: val_accuracy improved from 0.67440 to 0.68010, saving model to best_model_epoch.hdf5\n",
      "3125/3125 [==============================] - 26s 8ms/step - loss: 1.0460 - accuracy: 0.6324 - val_loss: 0.9340 - val_accuracy: 0.6801\n",
      "Epoch 4/13\n",
      "3122/3125 [============================>.] - ETA: 0s - loss: 0.9824 - accuracy: 0.6577\n",
      "Epoch 4: val_accuracy improved from 0.68010 to 0.71160, saving model to best_model_epoch.hdf5\n",
      "3125/3125 [==============================] - 30s 9ms/step - loss: 0.9824 - accuracy: 0.6577 - val_loss: 0.8408 - val_accuracy: 0.7116\n",
      "Epoch 5/13\n",
      "3122/3125 [============================>.] - ETA: 0s - loss: 0.9471 - accuracy: 0.6683\n",
      "Epoch 5: val_accuracy improved from 0.71160 to 0.73000, saving model to best_model_epoch.hdf5\n",
      "3125/3125 [==============================] - 29s 9ms/step - loss: 0.9471 - accuracy: 0.6683 - val_loss: 0.8024 - val_accuracy: 0.7300\n",
      "Epoch 6/13\n",
      "3123/3125 [============================>.] - ETA: 0s - loss: 0.9165 - accuracy: 0.6814\n",
      "Epoch 6: val_accuracy improved from 0.73000 to 0.73030, saving model to best_model_epoch.hdf5\n",
      "3125/3125 [==============================] - 29s 9ms/step - loss: 0.9164 - accuracy: 0.6814 - val_loss: 0.7799 - val_accuracy: 0.7303\n",
      "Epoch 7/13\n",
      "3120/3125 [============================>.] - ETA: 0s - loss: 0.8875 - accuracy: 0.6918\n",
      "Epoch 7: val_accuracy improved from 0.73030 to 0.73590, saving model to best_model_epoch.hdf5\n",
      "3125/3125 [==============================] - 28s 9ms/step - loss: 0.8874 - accuracy: 0.6918 - val_loss: 0.7690 - val_accuracy: 0.7359\n",
      "Epoch 8/13\n",
      "3120/3125 [============================>.] - ETA: 0s - loss: 0.8678 - accuracy: 0.6975\n",
      "Epoch 8: val_accuracy did not improve from 0.73590\n",
      "3125/3125 [==============================] - 30s 10ms/step - loss: 0.8678 - accuracy: 0.6974 - val_loss: 0.7640 - val_accuracy: 0.7357\n",
      "Epoch 9/13\n",
      "3123/3125 [============================>.] - ETA: 0s - loss: 0.8458 - accuracy: 0.7059\n",
      "Epoch 9: val_accuracy improved from 0.73590 to 0.75020, saving model to best_model_epoch.hdf5\n",
      "3125/3125 [==============================] - 32s 10ms/step - loss: 0.8457 - accuracy: 0.7059 - val_loss: 0.7304 - val_accuracy: 0.7502\n",
      "Epoch 10/13\n",
      "3122/3125 [============================>.] - ETA: 0s - loss: 0.8288 - accuracy: 0.7147\n",
      "Epoch 10: val_accuracy did not improve from 0.75020\n",
      "3125/3125 [==============================] - 32s 10ms/step - loss: 0.8290 - accuracy: 0.7147 - val_loss: 0.7270 - val_accuracy: 0.7487\n",
      "Epoch 11/13\n",
      "3124/3125 [============================>.] - ETA: 0s - loss: 0.8199 - accuracy: 0.7145\n",
      "Epoch 11: val_accuracy improved from 0.75020 to 0.75600, saving model to best_model_epoch.hdf5\n",
      "3125/3125 [==============================] - 30s 10ms/step - loss: 0.8198 - accuracy: 0.7145 - val_loss: 0.7171 - val_accuracy: 0.7560\n",
      "Epoch 12/13\n",
      "3125/3125 [==============================] - ETA: 0s - loss: 0.8061 - accuracy: 0.7201\n",
      "Epoch 12: val_accuracy did not improve from 0.75600\n",
      "3125/3125 [==============================] - 31s 10ms/step - loss: 0.8061 - accuracy: 0.7201 - val_loss: 0.7076 - val_accuracy: 0.7547\n",
      "Epoch 13/13\n",
      "3125/3125 [==============================] - ETA: 0s - loss: 0.7867 - accuracy: 0.7256\n",
      "Epoch 13: val_accuracy improved from 0.75600 to 0.76140, saving model to best_model_epoch.hdf5\n",
      "3125/3125 [==============================] - 30s 10ms/step - loss: 0.7867 - accuracy: 0.7256 - val_loss: 0.6859 - val_accuracy: 0.7614\n"
     ]
    }
   ],
   "source": [
    "checkpoint = ModelCheckpoint(\"best_model_epoch.hdf5\", monitor='val_accuracy', verbose=1, save_best_only=True, mode='max')\n",
    "callbacks_list = [checkpoint]\n",
    "model_cnn.fit(x_train, y_train, batch_size=16, epochs=13, validation_data=(x_test, y_test), callbacks=callbacks_list)\n",
    "\n",
    "# Sauvegarder les modèles\n",
    "model_cnn.save('model_cnn.keras')"
   ]
  },
  {
   "cell_type": "markdown",
   "metadata": {},
   "source": [
    "### Afficher quelques images de test avec les prédictions du modèle CNN"
   ]
  },
  {
   "cell_type": "markdown",
   "metadata": {},
   "source": [
    "### Afficher les images avec les prédictions"
   ]
  },
  {
   "cell_type": "code",
   "execution_count": 7,
   "metadata": {},
   "outputs": [
    {
     "name": "stdout",
     "output_type": "stream",
     "text": [
      "1/1 [==============================] - 0s 76ms/step\n"
     ]
    },
    {
     "data": {
      "image/png": "[encoded data removed]",
      "text/plain": [
       "<Figure size 2000x2000 with 5 Axes>"
      ]
     },
     "metadata": {},
     "output_type": "display_data"
    }
   ],
   "source": [
    "images = x_test[random.sample(range(0, len(x_test)), 5)]\n",
    "# predict the class of each image\n",
    "predictions = model_cnn.predict(images)\n",
    "classes = [\"airplane\",\"automobile\",\"bird\",\"cat\",\"deer\",\"dog\",\"frog\",\"horse\",\"ship\",\"truck\"]\n",
    "# show the images\n",
    "fig = plt.figure(figsize=(20, 20))\n",
    "for i in range(len(images)):\n",
    "    fig.add_subplot(1, 5, (i+1)*1)\n",
    "    plt.imshow(images[i])\n",
    "    plt.axis('off')\n",
    "    best = max(predictions[i])\n",
    "    class_name = classes[list(predictions[i]).index(best)]\n",
    "    plt.title(class_name+ \" \"+ str(best))"
   ]
  }
 ],
 "metadata": {
  "kernelspec": {
   "display_name": "venv",
   "language": "python",
   "name": "python3"
  },
  "language_info": {
   "codemirror_mode": {
    "name": "ipython",
    "version": 3
   },
   "file_extension": ".py",
   "mimetype": "text/x-python",
   "name": "python",
   "nbconvert_exporter": "python",
   "pygments_lexer": "ipython3",
   "version": "3.11.6"
  }
 },
 "nbformat": 4,
 "nbformat_minor": 2
}

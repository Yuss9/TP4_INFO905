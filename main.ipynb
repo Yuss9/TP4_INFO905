{
 "cells": [
  {
   "cell_type": "code",
   "execution_count": 84,
   "metadata": {},
   "outputs": [],
   "source": [
    "import tensorflow as tf\n",
    "from tensorflow.keras import layers, models\n",
    "from tensorflow.keras.utils import to_categorical\n",
    "import scipy\n",
    "from tensorflow.keras.preprocessing.image import ImageDataGenerator\n",
    "\n",
    "(x_train, y_train), (x_test, y_test) = tf.keras.datasets.cifar10.load_data()\n"
   ]
  },
  {
   "cell_type": "code",
   "execution_count": 85,
   "metadata": {},
   "outputs": [
    {
     "name": "stdout",
     "output_type": "stream",
     "text": [
      "Taille du dataset d'entraînement : (50000, 32, 32, 3)\n",
      "Taille du dataset de test : (10000, 32, 32, 3)\n",
      "Nombre d'images d'entraînement : 50000\n",
      "Nombre d'images de test : 10000\n",
      "Nombre de classes : 10\n",
      "Model: \"sequential_49\"\n",
      "_________________________________________________________________\n",
      " Layer (type)                Output Shape              Param #   \n",
      "=================================================================\n",
      " flatten_49 (Flatten)        (None, 3072)              0         \n",
      "                                                                 \n",
      " dense_98 (Dense)            (None, 128)               393344    \n",
      "                                                                 \n",
      " dense_99 (Dense)            (None, 10)                1290      \n",
      "                                                                 \n",
      "=================================================================\n",
      "Total params: 394634 (1.51 MB)\n",
      "Trainable params: 394634 (1.51 MB)\n",
      "Non-trainable params: 0 (0.00 Byte)\n",
      "_________________________________________________________________\n"
     ]
    }
   ],
   "source": [
    "print(\"Taille du dataset d'entraînement :\", x_train.shape)\n",
    "print(\"Taille du dataset de test :\", x_test.shape)\n",
    "print(\"Nombre d'images d'entraînement :\", len(x_train))\n",
    "print(\"Nombre d'images de test :\", len(x_test))\n",
    "num_classes = len(set(y_train.flatten()))\n",
    "print(\"Nombre de classes :\", num_classes)\n",
    "#print(\"Labels d'entraînement :\", y_train[:10])\n",
    "x_train = x_train / 255.0\n",
    "x_test = x_test / 255.0\n",
    "\n",
    "# One-hot encoding des étiquettes\n",
    "num_classes = 10  \n",
    "y_train = to_categorical(y_train, num_classes)\n",
    "y_test = to_categorical(y_test, num_classes)\n",
    "\n",
    "\"\"\" # 4. Construisez un réseau de neurones dense\n",
    "model = models.Sequential()\n",
    "\n",
    "# Ajoutez une couche d'aplatissement pour convertir les images en vecteurs\n",
    "model.add(layers.Flatten(input_shape=(32, 32, 3)))\n",
    "\n",
    "# Ajoutez une couche dense avec 128 neurones et une fonction d'activation ReLU\n",
    "model.add(layers.Dense(128, activation='relu'))\n",
    "\n",
    "# Ajoutez une couche de sortie avec le nombre de neurones égal au nombre de classes\n",
    "model.add(layers.Dense(num_classes, activation='softmax'))\n",
    "model.summary() \"\"\""
   ]
  },
  {
   "cell_type": "code",
   "execution_count": 86,
   "metadata": {},
   "outputs": [
    {
     "name": "stdout",
     "output_type": "stream",
     "text": [
      "Model: \"sequential_50\"\n",
      "_________________________________________________________________\n",
      " Layer (type)                Output Shape              Param #   \n",
      "=================================================================\n",
      " conv2d_55 (Conv2D)          (None, 30, 30, 32)        896       \n",
      "                                                                 \n",
      " max_pooling2d_38 (MaxPooli  (None, 15, 15, 32)        0         \n",
      " ng2D)                                                           \n",
      "                                                                 \n",
      " conv2d_56 (Conv2D)          (None, 13, 13, 64)        18496     \n",
      "                                                                 \n",
      " max_pooling2d_39 (MaxPooli  (None, 6, 6, 64)          0         \n",
      " ng2D)                                                           \n",
      "                                                                 \n",
      " conv2d_57 (Conv2D)          (None, 4, 4, 64)          36928     \n",
      "                                                                 \n",
      " flatten_50 (Flatten)        (None, 1024)              0         \n",
      "                                                                 \n",
      " dense_100 (Dense)           (None, 64)                65600     \n",
      "                                                                 \n",
      " dense_101 (Dense)           (None, 10)                650       \n",
      "                                                                 \n",
      "=================================================================\n",
      "Total params: 122570 (478.79 KB)\n",
      "Trainable params: 122570 (478.79 KB)\n",
      "Non-trainable params: 0 (0.00 Byte)\n",
      "_________________________________________________________________\n"
     ]
    }
   ],
   "source": [
    "# 4. Construisez un réseau de neurones convolutionnel (CNN)\n",
    "model = models.Sequential()\n",
    "\n",
    "# Ajoutez une couche de convolution avec 32 filtres et une fenêtre de 3x3\n",
    "model.add(layers.Conv2D(32, (3, 3), activation='relu', input_shape=(32, 32, 3)))\n",
    "\n",
    "# Ajoutez une couche de pooling pour réduire la dimension spatiale\n",
    "model.add(layers.MaxPooling2D((2, 2)))\n",
    "\n",
    "# Ajoutez une deuxième couche de convolution avec 64 filtres et une fenêtre de 3x3\n",
    "model.add(layers.Conv2D(64, (3, 3), activation='relu'))\n",
    "\n",
    "# Ajoutez une deuxième couche de pooling\n",
    "model.add(layers.MaxPooling2D((2, 2)))\n",
    "\n",
    "# Ajoutez une troisième couche de convolution avec 64 filtres et une fenêtre de 3x3\n",
    "model.add(layers.Conv2D(64, (3, 3), activation='relu'))\n",
    "\n",
    "# Ajoutez une couche d'aplatissement pour convertir les images en vecteurs\n",
    "model.add(layers.Flatten())\n",
    "\n",
    "# Ajoutez une couche dense avec 64 neurones et une fonction d'activation ReLU\n",
    "model.add(layers.Dense(64, activation='relu'))\n",
    "\n",
    "# Ajoutez une couche de sortie avec le nombre de neurones égal au nombre de classes\n",
    "model.add(layers.Dense(num_classes, activation='softmax'))\n",
    "model.summary()"
   ]
  },
  {
   "cell_type": "code",
   "execution_count": 87,
   "metadata": {},
   "outputs": [
    {
     "name": "stdout",
     "output_type": "stream",
     "text": [
      "Epoch 1/10\n",
      "1563/1563 [==============================] - 13s 8ms/step - loss: 1.4966 - accuracy: 0.4538 - val_loss: 1.2078 - val_accuracy: 0.5701\n",
      "Epoch 2/10\n",
      "1563/1563 [==============================] - 12s 8ms/step - loss: 1.1282 - accuracy: 0.6032 - val_loss: 1.1105 - val_accuracy: 0.6121\n",
      "Epoch 3/10\n",
      "1563/1563 [==============================] - 12s 8ms/step - loss: 0.9766 - accuracy: 0.6570 - val_loss: 0.9563 - val_accuracy: 0.6688\n",
      "Epoch 4/10\n",
      "1563/1563 [==============================] - 12s 8ms/step - loss: 0.8881 - accuracy: 0.6903 - val_loss: 0.9632 - val_accuracy: 0.6729\n",
      "Epoch 5/10\n",
      "1563/1563 [==============================] - 13s 8ms/step - loss: 0.8251 - accuracy: 0.7120 - val_loss: 0.8779 - val_accuracy: 0.6990\n",
      "Epoch 6/10\n",
      "1563/1563 [==============================] - 12s 8ms/step - loss: 0.7676 - accuracy: 0.7318 - val_loss: 0.8725 - val_accuracy: 0.6994\n",
      "Epoch 7/10\n",
      "1563/1563 [==============================] - 12s 8ms/step - loss: 0.7233 - accuracy: 0.7459 - val_loss: 0.8969 - val_accuracy: 0.6941\n",
      "Epoch 8/10\n",
      "1563/1563 [==============================] - 12s 8ms/step - loss: 0.6809 - accuracy: 0.7631 - val_loss: 0.8730 - val_accuracy: 0.7024\n",
      "Epoch 9/10\n",
      "1563/1563 [==============================] - 12s 8ms/step - loss: 0.6395 - accuracy: 0.7757 - val_loss: 0.8833 - val_accuracy: 0.7078\n",
      "Epoch 10/10\n",
      "1563/1563 [==============================] - 12s 8ms/step - loss: 0.6046 - accuracy: 0.7856 - val_loss: 0.8732 - val_accuracy: 0.7053\n",
      "313/313 - 1s - loss: 0.8732 - accuracy: 0.7053 - 659ms/epoch - 2ms/step\n",
      "\n",
      "Précision sur les données de test : 0.705299973487854\n",
      "Epoch 1/10\n",
      "1563/1563 [==============================] - 2s 1ms/step - loss: 1.8931 - accuracy: 0.3183 - val_loss: 1.7702 - val_accuracy: 0.3621\n",
      "Epoch 2/10\n",
      "1563/1563 [==============================] - 1s 911us/step - loss: 1.7465 - accuracy: 0.3779 - val_loss: 1.7125 - val_accuracy: 0.3862\n",
      "Epoch 3/10\n",
      "1563/1563 [==============================] - 1s 912us/step - loss: 1.6950 - accuracy: 0.3966 - val_loss: 1.6829 - val_accuracy: 0.3974\n",
      "Epoch 4/10\n",
      "1563/1563 [==============================] - 1s 909us/step - loss: 1.6718 - accuracy: 0.4075 - val_loss: 1.6900 - val_accuracy: 0.3993\n",
      "Epoch 5/10\n",
      "1563/1563 [==============================] - 2s 1ms/step - loss: 1.6560 - accuracy: 0.4130 - val_loss: 1.6521 - val_accuracy: 0.4137\n",
      "Epoch 6/10\n",
      "1563/1563 [==============================] - 2s 984us/step - loss: 1.6376 - accuracy: 0.4180 - val_loss: 1.6223 - val_accuracy: 0.4233\n",
      "Epoch 7/10\n",
      "1563/1563 [==============================] - 2s 978us/step - loss: 1.6217 - accuracy: 0.4259 - val_loss: 1.6314 - val_accuracy: 0.4194\n",
      "Epoch 8/10\n",
      "1563/1563 [==============================] - 2s 1ms/step - loss: 1.6110 - accuracy: 0.4295 - val_loss: 1.6072 - val_accuracy: 0.4302\n",
      "Epoch 9/10\n",
      "1563/1563 [==============================] - 1s 956us/step - loss: 1.5967 - accuracy: 0.4355 - val_loss: 1.6337 - val_accuracy: 0.4128\n",
      "Epoch 10/10\n",
      "1563/1563 [==============================] - 1s 926us/step - loss: 1.5871 - accuracy: 0.4347 - val_loss: 1.6146 - val_accuracy: 0.4225\n",
      "313/313 - 0s - loss: 1.6146 - accuracy: 0.4225 - 136ms/epoch - 436us/step\n",
      "\n",
      "Précision du modèle dense sur les données de test : 0.42250001430511475\n"
     ]
    }
   ],
   "source": [
    "# 5. Compilez le modèle\n",
    "model.compile(optimizer='adam',\n",
    "              loss='categorical_crossentropy',\n",
    "              metrics=['accuracy'])\n",
    "\n",
    "# 6. Entraînez le modèle sur les données d'entraînement\n",
    "epochs = 10\n",
    "history = model.fit(x_train, y_train, epochs=epochs, validation_data=(x_test, y_test))\n",
    "\n",
    "# 7. Évaluez les performances du modèle sur les données de test\n",
    "test_loss, test_acc = model.evaluate(x_test, y_test, verbose=2)\n",
    "print(\"\\nPrécision sur les données de test :\", test_acc)\n",
    "\n",
    "# 8. Comparez les performances avec le modèle précédent (Premier model)\n",
    "dense_model = models.Sequential()\n",
    "dense_model.add(layers.Flatten(input_shape=(32, 32, 3)))\n",
    "dense_model.add(layers.Dense(128, activation='relu'))\n",
    "dense_model.add(layers.Dense(num_classes, activation='softmax'))\n",
    "dense_model.summary()\n",
    "dense_model.compile(optimizer='adam',\n",
    "                    loss='categorical_crossentropy',\n",
    "                    metrics=['accuracy'])\n",
    "\n",
    "dense_history = dense_model.fit(x_train, y_train, epochs=epochs, validation_data=(x_test, y_test))\n",
    "dense_test_loss, dense_test_acc = dense_model.evaluate(x_test, y_test, verbose=2)\n",
    "print(\"\\nPrécision du modèle dense sur les données de test :\", dense_test_acc)\n"
   ]
  },
  {
   "cell_type": "code",
   "execution_count": 88,
   "metadata": {},
   "outputs": [
    {
     "data": {
      "text/plain": [
       "' # Optimisation du modele dense\\ndense_model = models.Sequential()\\ndense_model.add(layers.Flatten(input_shape=(32, 32, 3)))\\ndense_model.add(layers.Dense(128, activation=\\'relu\\'))\\ndense_model.add(layers.BatchNormalization())  # Ajout de batch normalization\\ndense_model.add(layers.Dropout(0.5))  # Ajout de dropout\\ndense_model.add(layers.Dense(num_classes, activation=\\'softmax\\'))\\ndense_model.summary()\\n\\n\\ndense_model.compile(optimizer=\\'adam\\',\\n                    loss=\\'categorical_crossentropy\\',\\n                    metrics=[\\'accuracy\\'])\\n\\ndense_history = dense_model.fit(x_train, y_train, epochs=epochs, validation_data=(x_test, y_test))\\n\\n\\ndense_test_loss, dense_test_acc = dense_model.evaluate(x_test, y_test, verbose=2)\\nprint(\"\\nPrécision du modèle dense amélioré sur les données de test :\", dense_test_acc)\\n '"
      ]
     },
     "execution_count": 88,
     "metadata": {},
     "output_type": "execute_result"
    }
   ],
   "source": [
    "\"\"\" # Optimisation du modele dense\n",
    "dense_model = models.Sequential()\n",
    "dense_model.add(layers.Flatten(input_shape=(32, 32, 3)))\n",
    "dense_model.add(layers.Dense(128, activation='relu'))\n",
    "dense_model.add(layers.BatchNormalization())  # Ajout de batch normalization\n",
    "dense_model.add(layers.Dropout(0.5))  # Ajout de dropout\n",
    "dense_model.add(layers.Dense(num_classes, activation='softmax'))\n",
    "dense_model.summary()\n",
    "\n",
    "\n",
    "dense_model.compile(optimizer='adam',\n",
    "                    loss='categorical_crossentropy',\n",
    "                    metrics=['accuracy'])\n",
    "\n",
    "dense_history = dense_model.fit(x_train, y_train, epochs=epochs, validation_data=(x_test, y_test))\n",
    "\n",
    "\n",
    "dense_test_loss, dense_test_acc = dense_model.evaluate(x_test, y_test, verbose=2)\n",
    "print(\"\\nPrécision du modèle dense amélioré sur les données de test :\", dense_test_acc)\n",
    " \"\"\""
   ]
  },
  {
   "cell_type": "code",
   "execution_count": 117,
   "metadata": {},
   "outputs": [
    {
     "name": "stdout",
     "output_type": "stream",
     "text": [
      "1/1 [==============================] - 0s 10ms/step\n"
     ]
    },
    {
     "data": {
      "image/png": "[encoded data removed]",
      "text/plain": [
       "<Figure size 2000x2000 with 5 Axes>"
      ]
     },
     "metadata": {},
     "output_type": "display_data"
    }
   ],
   "source": [
    "import matplotlib.pyplot as plt\n",
    "import random\n",
    "\n",
    "images = x_test[random.sample(range(0, len(x_test)), 5)]\n",
    "# predict the class of each image\n",
    "predictions = model.predict(images)\n",
    "classes = [\"airplane\",\"automobile\",\"bird\",\"cat\",\"deer\",\"dog\",\"frog\",\"horse\",\"ship\",\"truck\"]\n",
    "# show the images\n",
    "fig = plt.figure(figsize=(20, 20))\n",
    "for i in range(len(images)):\n",
    "    fig.add_subplot(1, 5, (i+1)*1)\n",
    "    plt.imshow(images[i])\n",
    "    plt.axis('off')\n",
    "    best = max(predictions[i])\n",
    "    class_name = classes[list(predictions[i]).index(best)]\n",
    "    plt.title(class_name+ \" \"+ str(best))"
   ]
  }
 ],
 "metadata": {
  "kernelspec": {
   "display_name": "venv",
   "language": "python",
   "name": "python3"
  },
  "language_info": {
   "codemirror_mode": {
    "name": "ipython",
    "version": 3
   },
   "file_extension": ".py",
   "mimetype": "text/x-python",
   "name": "python",
   "nbconvert_exporter": "python",
   "pygments_lexer": "ipython3",
   "version": "3.11.6"
  }
 },
 "nbformat": 4,
 "nbformat_minor": 2
}
